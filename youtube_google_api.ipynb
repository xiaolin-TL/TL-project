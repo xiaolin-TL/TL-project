{
 "cells": [
  {
   "cell_type": "markdown",
   "id": "465aeb6a",
   "metadata": {},
   "source": [
    "# YouTube comments\n",
    "\n",
    "Here I used google api. There may be other tools. \n",
    "\n",
    "\n",
    "* https://developers.google.com/youtube/v3/docs/commentThreads/list\n",
    "* https://developers.google.com/youtube/v3/docs/comments/list\n",
    "\n",
    "Check out the link \"See code samples\"\n",
    "\n",
    "\n",
    "Get authorization: I used API key\n",
    "https://developers.google.com/youtube/registering_an_application\n",
    "\n",
    "\n",
    "Output: also CSV. Ideally in the same/compatible column schema with NYTimes results (e.g. common fields like id, text, timestamp). "
   ]
  },
  {
   "cell_type": "code",
   "execution_count": 1,
   "id": "5709d6e5",
   "metadata": {},
   "outputs": [],
   "source": [
    "import os\n",
    "import google_auth_oauthlib.flow\n",
    "import googleapiclient.discovery\n",
    "import googleapiclient.errors\n",
    "from typing import Dict"
   ]
  },
  {
   "cell_type": "markdown",
   "id": "7808e6d0",
   "metadata": {},
   "source": [
    "The following functions could be organized as a python class. \n",
    "\n",
    "It looks like YouTube API lets us get at the nested structure of comments, which the NYTimes API lacks. We need a way to save the nested structure (e.g. add a field parent_id)"
   ]
  },
  {
   "cell_type": "code",
   "execution_count": 4,
   "id": "3dd723a9",
   "metadata": {},
   "outputs": [],
   "source": [
    "def get_comments(video_id: str) -> Dict:\n",
    "    # Disable OAuthlib's HTTPS verification when running locally.\n",
    "    # *DO NOT* leave this option enabled in production.\n",
    "    os.environ[\"OAUTHLIB_INSECURE_TRANSPORT\"] = \"1\"\n",
    "    api_service_name = \"youtube\"\n",
    "    api_version = \"v3\"\n",
    "    DEVELOPER_KEY = os.environ.get(\"GOOGLE_API_KEY\")\n",
    "\n",
    "    youtube = googleapiclient.discovery.build(\n",
    "        api_service_name, api_version, developerKey = DEVELOPER_KEY)\n",
    "\n",
    "    request = youtube.commentThreads().list(\n",
    "        part=\"snippet\",\n",
    "        order=\"time\",\n",
    "        videoId=video_id,\n",
    "        maxResults = 10,\n",
    "    )\n",
    "    response = request.execute()\n",
    "    return response # fields ['kind', 'etag', 'nextPageToken', 'pageInfo', 'items']\n",
    "\n",
    "def get_child_comments(Id: str) -> Dict:\n",
    "    # Disable OAuthlib's HTTPS verification when running locally.\n",
    "    # *DO NOT* leave this option enabled in production.\n",
    "    os.environ[\"OAUTHLIB_INSECURE_TRANSPORT\"] = \"1\"\n",
    "    api_service_name = \"youtube\"\n",
    "    api_version = \"v3\"\n",
    "    DEVELOPER_KEY = os.environ.get(\"GOOGLE_API_KEY\")\n",
    "\n",
    "    youtube = googleapiclient.discovery.build(\n",
    "        api_service_name, api_version, developerKey = DEVELOPER_KEY)\n",
    "\n",
    "    request = youtube.comments().list(\n",
    "        part=\"snippet\",\n",
    "        parentId=Id,\n",
    "        maxResults = 50\n",
    "    )\n",
    "    response = request.execute()\n",
    "    return response # four fields"
   ]
  },
  {
   "cell_type": "code",
   "execution_count": 5,
   "id": "f2caeced",
   "metadata": {},
   "outputs": [
    {
     "name": "stdout",
     "output_type": "stream",
     "text": [
      "UgyS2G3LIasPvwj-YUR4AaABAg\n",
      "If this movie does not do a billion dollar then there is something wrong with this reality.\n",
      "0 child comments\n",
      "\n",
      "Ugwzhp0v37MWTrD0s1V4AaABAg\n",
      "Every Marvel movie has a dialogue which goes like \"the greatest threat to our universe...\"\n",
      "0 child comments\n",
      "\n",
      "UgwF1lU05mZAKk9QtKt4AaABAg\n",
      "I'm so happy that they didn't release this on the internet right away, for seeing it in cinema for the first time was incredible\n",
      "0 child comments\n",
      "\n",
      "UgxcTI4jyCuESWhocON4AaABAg\n",
      "I am so excited\n",
      "0 child comments\n",
      "\n",
      "Ugya8Vchj4chqZzgZyV4AaABAg\n",
      "Maybe our Dr strange and evil strange team up against a greater threat 🤷\n",
      "That would be cool imo\n",
      "0 child comments\n",
      "\n",
      "UgxnlXRnxw6jItmf22N4AaABAg\n",
      "The simple fact that Sam raimi is directing the next dr strange is why I'm super excited for it.  Can't wait to see what horror elements he slips in because we all know Sam raimi can't help himself\n",
      "1 child comments\n",
      "\n",
      "UgyGwAem-xPMmCvfy014AaABAg\n",
      "Sam Raimi directed this. My hopes are up for a Marvel movie without a ton of silly and misplaced jokes.\n",
      "0 child comments\n",
      "\n",
      "Ugz0WXwR8vi7Zr5sMxp4AaABAg\n",
      "MCU is not anymore MCU it's MCC now : MARVEL CINEMATIC MULTIVERSE\n",
      "0 child comments\n",
      "\n",
      "UgxSmB9A84rl1-hAeEB4AaABAg\n",
      "Nobody’s going to notice the slight nod and tribute to Chadwick Boseman in the marvel title card?…\n",
      "0 child comments\n",
      "\n",
      "UgxlsML9gj6SWIvH23N4AaABAg\n",
      "is that dr stange supreme?\n",
      "0 child comments\n",
      "\n"
     ]
    }
   ],
   "source": [
    "video_id = \"Rt_UqUm38BI\" # https://www.youtube.com/watch?v=Rt_UqUm38BI\n",
    "res = get_comments(video_id)\n",
    "for comment in res[\"items\"]:\n",
    "    text = comment[\"snippet\"][\"topLevelComment\"][\"snippet\"][\"textOriginal\"]\n",
    "    children = get_child_comments(comment[\"id\"])[\"items\"]\n",
    "    print(comment[\"id\"])\n",
    "    print(text)\n",
    "    print(f\"{len(children)} child comments\")\n",
    "    print()"
   ]
  },
  {
   "cell_type": "code",
   "execution_count": null,
   "id": "7b08afdd",
   "metadata": {},
   "outputs": [],
   "source": []
  }
 ],
 "metadata": {
  "kernelspec": {
   "display_name": "Python 3",
   "language": "python",
   "name": "python3"
  },
  "language_info": {
   "codemirror_mode": {
    "name": "ipython",
    "version": 3
   },
   "file_extension": ".py",
   "mimetype": "text/x-python",
   "name": "python",
   "nbconvert_exporter": "python",
   "pygments_lexer": "ipython3",
   "version": "3.8.8"
  }
 },
 "nbformat": 4,
 "nbformat_minor": 5
}
