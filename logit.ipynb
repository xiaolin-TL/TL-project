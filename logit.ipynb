{
 "cells": [
  {
   "cell_type": "markdown",
   "id": "96536da9",
   "metadata": {},
   "source": [
    "# Simple Logit Model Trained on Wiki Comments"
   ]
  },
  {
   "cell_type": "code",
   "execution_count": 44,
   "id": "27ac1925",
   "metadata": {},
   "outputs": [],
   "source": [
    "import pandas as pd\n",
    "import numpy as np\n",
    "import logging\n",
    "import warnings\n",
    "import gspread\n",
    "from sklearn.metrics import precision_recall_fscore_support, accuracy_score, recall_score\n",
    "from sklearn.model_selection import train_test_split\n",
    "from sklearn.linear_model import LogisticRegression\n",
    "from sklearn.feature_extraction.text import CountVectorizer,TfidfVectorizer\n",
    "\n",
    "warnings.filterwarnings('ignore')"
   ]
  },
  {
   "cell_type": "code",
   "execution_count": 5,
   "id": "3e6d5da4",
   "metadata": {},
   "outputs": [
    {
     "data": {
      "text/plain": [
       "STAY       123508\n",
       "ARCHIVE     65705\n",
       "REMOVE       6571\n",
       "Name: last, dtype: int64"
      ]
     },
     "execution_count": 5,
     "metadata": {},
     "output_type": "execute_result"
    }
   ],
   "source": [
    "df = pd.read_csv('sample_clustered.csv', parse_dates=['timestamp'])\n",
    "sample = df[((df.toxicity<0.33))] # only nontoxic comments\n",
    "sample['last'].value_counts()"
   ]
  },
  {
   "cell_type": "code",
   "execution_count": 8,
   "id": "768e0747",
   "metadata": {},
   "outputs": [],
   "source": [
    "sample = sample[sample['last']!='STAY'] # STAY indicates lack of user activities, did not mean approval\n",
    "sample['removed'] = (sample['last'] == 'REMOVE').astype(int)"
   ]
  },
  {
   "cell_type": "code",
   "execution_count": 7,
   "id": "aefd00ee",
   "metadata": {},
   "outputs": [],
   "source": [
    "def extract_features(df,field,training_data,testing_data,type=\"binary\"):\n",
    "    \"\"\"Extract features using different methods\"\"\"\n",
    "    \n",
    "    logging.info(\"Extracting features and creating vocabulary...\")\n",
    "    \n",
    "    if \"binary\" in type:\n",
    "        \n",
    "        # BINARY FEATURE REPRESENTATION\n",
    "        cv= CountVectorizer(binary=True, max_df=0.95)\n",
    "        cv.fit_transform(training_data[field].values)\n",
    "        \n",
    "        train_feature_set=cv.transform(training_data[field].values)\n",
    "        test_feature_set=cv.transform(testing_data[field].values)\n",
    "        \n",
    "        return train_feature_set,test_feature_set,cv\n",
    "  \n",
    "    elif \"counts\" in type:\n",
    "        \n",
    "        # COUNT BASED FEATURE REPRESENTATION\n",
    "        cv= CountVectorizer(binary=False, max_df=0.95)\n",
    "        cv.fit_transform(training_data[field].values)\n",
    "        \n",
    "        train_feature_set=cv.transform(training_data[field].values)\n",
    "        test_feature_set=cv.transform(testing_data[field].values)\n",
    "        \n",
    "        return train_feature_set,test_feature_set,cv\n",
    "    \n",
    "    else:    \n",
    "        \n",
    "        # TF-IDF BASED FEATURE REPRESENTATION\n",
    "        tfidf_vectorizer=TfidfVectorizer(use_idf=True, max_df=0.95)\n",
    "        tfidf_vectorizer.fit_transform(training_data[field].values)\n",
    "        \n",
    "        train_feature_set=tfidf_vectorizer.transform(training_data[field].values)\n",
    "        test_feature_set=tfidf_vectorizer.transform(testing_data[field].values)\n",
    "        \n",
    "        return train_feature_set,test_feature_set,tfidf_vectorizer\n"
   ]
  },
  {
   "cell_type": "code",
   "execution_count": 45,
   "id": "c2f78da0",
   "metadata": {},
   "outputs": [],
   "source": [
    "def run_model(field, feature_rep):\n",
    "    training_data, testing_data = train_test_split(sample, random_state = 2000,)\n",
    "\n",
    "    # GET LABELS\n",
    "    Y_train=training_data['removed'].values\n",
    "    Y_test=testing_data['removed'].values\n",
    "\n",
    "    # GET FEATURES\n",
    "    X_train,X_test,feature_transformer=extract_features(sample,field,training_data,testing_data,type=feature_rep)\n",
    "\n",
    "    # INIT LOGISTIC REGRESSION CLASSIFIER\n",
    "    scikit_log_reg = LogisticRegression(verbose=1, solver='liblinear',random_state=0, C=5, penalty='l2',max_iter=1000)\n",
    "    model=scikit_log_reg.fit(X_train,Y_train)\n",
    "    \n",
    "    Y_train_pred = model.predict(X_train)\n",
    "    Y_test_pred = model.predict(X_test)\n",
    "    return (model, feature_transformer, \n",
    "            accuracy_score(Y_train, Y_train_pred), accuracy_score(Y_test, Y_test_pred),\n",
    "           recall_score(Y_train, Y_train_pred), recall_score(Y_test, Y_test_pred))\n"
   ]
  },
  {
   "cell_type": "code",
   "execution_count": 47,
   "id": "7a2433b7",
   "metadata": {},
   "outputs": [
    {
     "name": "stdout",
     "output_type": "stream",
     "text": [
      "[LibLinear][LibLinear][LibLinear][LibLinear][LibLinear][LibLinear]"
     ]
    },
    {
     "data": {
      "text/html": [
       "<div>\n",
       "<style scoped>\n",
       "    .dataframe tbody tr th:only-of-type {\n",
       "        vertical-align: middle;\n",
       "    }\n",
       "\n",
       "    .dataframe tbody tr th {\n",
       "        vertical-align: top;\n",
       "    }\n",
       "\n",
       "    .dataframe thead th {\n",
       "        text-align: right;\n",
       "    }\n",
       "</style>\n",
       "<table border=\"1\" class=\"dataframe\">\n",
       "  <thead>\n",
       "    <tr style=\"text-align: right;\">\n",
       "      <th></th>\n",
       "      <th>field</th>\n",
       "      <th>feature_rep</th>\n",
       "      <th>P/R train</th>\n",
       "      <th>P/R test</th>\n",
       "    </tr>\n",
       "  </thead>\n",
       "  <tbody>\n",
       "    <tr>\n",
       "      <th>0</th>\n",
       "      <td>cleaned_content</td>\n",
       "      <td>binary</td>\n",
       "      <td>0.982/0.799</td>\n",
       "      <td>0.893/0.151</td>\n",
       "    </tr>\n",
       "    <tr>\n",
       "      <th>1</th>\n",
       "      <td>cleaned_content</td>\n",
       "      <td>count</td>\n",
       "      <td>0.94/0.34</td>\n",
       "      <td>0.91/0.104</td>\n",
       "    </tr>\n",
       "    <tr>\n",
       "      <th>2</th>\n",
       "      <td>cleaned_content</td>\n",
       "      <td>tfidf</td>\n",
       "      <td>0.94/0.34</td>\n",
       "      <td>0.91/0.104</td>\n",
       "    </tr>\n",
       "    <tr>\n",
       "      <th>3</th>\n",
       "      <td>content</td>\n",
       "      <td>binary</td>\n",
       "      <td>0.99/0.901</td>\n",
       "      <td>0.896/0.194</td>\n",
       "    </tr>\n",
       "    <tr>\n",
       "      <th>4</th>\n",
       "      <td>content</td>\n",
       "      <td>count</td>\n",
       "      <td>0.946/0.407</td>\n",
       "      <td>0.911/0.121</td>\n",
       "    </tr>\n",
       "    <tr>\n",
       "      <th>5</th>\n",
       "      <td>content</td>\n",
       "      <td>tfidf</td>\n",
       "      <td>0.946/0.407</td>\n",
       "      <td>0.911/0.121</td>\n",
       "    </tr>\n",
       "  </tbody>\n",
       "</table>\n",
       "</div>"
      ],
      "text/plain": [
       "             field feature_rep    P/R train     P/R test\n",
       "0  cleaned_content      binary  0.982/0.799  0.893/0.151\n",
       "1  cleaned_content       count    0.94/0.34   0.91/0.104\n",
       "2  cleaned_content       tfidf    0.94/0.34   0.91/0.104\n",
       "3          content      binary   0.99/0.901  0.896/0.194\n",
       "4          content       count  0.946/0.407  0.911/0.121\n",
       "5          content       tfidf  0.946/0.407  0.911/0.121"
      ]
     },
     "execution_count": 47,
     "metadata": {},
     "output_type": "execute_result"
    }
   ],
   "source": [
    "data = []\n",
    "models = {}\n",
    "transformers = {}\n",
    "\n",
    "for field in ['cleaned_content', 'content']:\n",
    "    for feature_rep in ['binary', 'count', 'tfidf']:\n",
    "        model, transformer, accuracy_train, accuracy_test, recall_train, recall_test = run_model(field, feature_rep)\n",
    "        models[(field, feature_rep)] = model\n",
    "        transformers[(field, feature_rep)] = transformer\n",
    "        data.append({'field': field, 'feature_rep': feature_rep, \n",
    "                     'P/R train': f'{round(accuracy_train, 3)}/{round(recall_train, 3)}',\n",
    "                     'P/R test':  f'{round(accuracy_test, 3)}/{round(recall_test, 3)}'})\n",
    "        \n",
    "accuracy_df = pd.DataFrame(data)\n",
    "accuracy_df"
   ]
  },
  {
   "cell_type": "markdown",
   "id": "3689e79a",
   "metadata": {},
   "source": [
    "## Apply to SN"
   ]
  },
  {
   "cell_type": "code",
   "execution_count": 19,
   "id": "81ca7de9",
   "metadata": {},
   "outputs": [],
   "source": [
    "gc = gspread.service_account()"
   ]
  },
  {
   "cell_type": "code",
   "execution_count": 20,
   "id": "1e2dfa50",
   "metadata": {},
   "outputs": [
    {
     "name": "stdout",
     "output_type": "stream",
     "text": [
      "0 Consensus\n",
      "1 Sailaja\n",
      "2 Tom\n",
      "3 Owen\n",
      "4 Xiaolin\n",
      "5 Katie\n",
      "6 parent comment\n"
     ]
    }
   ],
   "source": [
    "sh = gc.open(\"Smart News-GT-set 2 ( 100/1000 )- V3-FTE (12/10)\")\n",
    "for i, worksheet in enumerate(sh.worksheets()):\n",
    "    print(i, worksheet.title)"
   ]
  },
  {
   "cell_type": "code",
   "execution_count": 21,
   "id": "b5d8ca14",
   "metadata": {},
   "outputs": [
    {
     "data": {
      "text/html": [
       "<div>\n",
       "<style scoped>\n",
       "    .dataframe tbody tr th:only-of-type {\n",
       "        vertical-align: middle;\n",
       "    }\n",
       "\n",
       "    .dataframe tbody tr th {\n",
       "        vertical-align: top;\n",
       "    }\n",
       "\n",
       "    .dataframe thead th {\n",
       "        text-align: right;\n",
       "    }\n",
       "</style>\n",
       "<table border=\"1\" class=\"dataframe\">\n",
       "  <thead>\n",
       "    <tr style=\"text-align: right;\">\n",
       "      <th></th>\n",
       "      <th>0</th>\n",
       "      <th>1</th>\n",
       "      <th>2</th>\n",
       "      <th>3</th>\n",
       "      <th>4</th>\n",
       "      <th>5</th>\n",
       "      <th>6</th>\n",
       "      <th>7</th>\n",
       "      <th>8</th>\n",
       "      <th>9</th>\n",
       "      <th>...</th>\n",
       "      <th>39</th>\n",
       "      <th>40</th>\n",
       "      <th>41</th>\n",
       "      <th>42</th>\n",
       "      <th>43</th>\n",
       "      <th>44</th>\n",
       "      <th>45</th>\n",
       "      <th>46</th>\n",
       "      <th>47</th>\n",
       "      <th>48</th>\n",
       "    </tr>\n",
       "  </thead>\n",
       "  <tbody>\n",
       "    <tr>\n",
       "      <th>0</th>\n",
       "      <td>4323245421758513930</td>\n",
       "      <td></td>\n",
       "      <td>Meth’d up MAGA trash</td>\n",
       "      <td>2021-08-30 21:13:51</td>\n",
       "      <td>0</td>\n",
       "      <td>https://www.independent.co.uk/news/world/ameri...</td>\n",
       "      <td>Yes</td>\n",
       "      <td>Yes</td>\n",
       "      <td>Yes</td>\n",
       "      <td>Yes</td>\n",
       "      <td>...</td>\n",
       "      <td>4 - Grey area but leaning toward 5</td>\n",
       "      <td>5 - Remove</td>\n",
       "      <td>5 - Remove</td>\n",
       "      <td>REMOVE</td>\n",
       "      <td>REMOVE</td>\n",
       "      <td></td>\n",
       "      <td></td>\n",
       "      <td></td>\n",
       "      <td>5 - Comment is unsubstantive</td>\n",
       "      <td>5 - Remove</td>\n",
       "    </tr>\n",
       "    <tr>\n",
       "      <th>1</th>\n",
       "      <td>4323245507347486702</td>\n",
       "      <td></td>\n",
       "      <td>Lol I just made a comment it was removed for g...</td>\n",
       "      <td>2021-08-30 21:14:11</td>\n",
       "      <td>0</td>\n",
       "      <td>https://www.businessinsider.com/last-us-milita...</td>\n",
       "      <td>No</td>\n",
       "      <td>No</td>\n",
       "      <td></td>\n",
       "      <td>No</td>\n",
       "      <td>...</td>\n",
       "      <td>1 - Don’t remove</td>\n",
       "      <td>5 - Remove</td>\n",
       "      <td>5 - Remove</td>\n",
       "      <td>REMOVE</td>\n",
       "      <td>REMOVE</td>\n",
       "      <td></td>\n",
       "      <td></td>\n",
       "      <td></td>\n",
       "      <td>4 - Grey area but leaning toward 5</td>\n",
       "      <td>4 - Grey area but leaning toward 5</td>\n",
       "    </tr>\n",
       "    <tr>\n",
       "      <th>2</th>\n",
       "      <td>4323245612343493450</td>\n",
       "      <td></td>\n",
       "      <td>Apparently you can’t say negative stuff about ...</td>\n",
       "      <td>2021-08-30 21:14:36</td>\n",
       "      <td>0</td>\n",
       "      <td>https://www.businessinsider.com/last-us-milita...</td>\n",
       "      <td>No</td>\n",
       "      <td>No</td>\n",
       "      <td></td>\n",
       "      <td>No</td>\n",
       "      <td>...</td>\n",
       "      <td>1 - Don’t remove</td>\n",
       "      <td>4 - Grey area but leaning toward 5</td>\n",
       "      <td>1 - Don’t remove</td>\n",
       "      <td>KEEP</td>\n",
       "      <td>KEEP</td>\n",
       "      <td></td>\n",
       "      <td></td>\n",
       "      <td></td>\n",
       "      <td>3 - Cannot decide (escalate for policy decision)</td>\n",
       "      <td>3 - Cannot decide (escalate for policy decision)</td>\n",
       "    </tr>\n",
       "  </tbody>\n",
       "</table>\n",
       "<p>3 rows × 49 columns</p>\n",
       "</div>"
      ],
      "text/plain": [
       "                    0  1                                                  2   \\\n",
       "0  4323245421758513930                                 Meth’d up MAGA trash    \n",
       "1  4323245507347486702     Lol I just made a comment it was removed for g...   \n",
       "2  4323245612343493450     Apparently you can’t say negative stuff about ...   \n",
       "\n",
       "                    3  4                                                  5   \\\n",
       "0  2021-08-30 21:13:51  0  https://www.independent.co.uk/news/world/ameri...   \n",
       "1  2021-08-30 21:14:11  0  https://www.businessinsider.com/last-us-milita...   \n",
       "2  2021-08-30 21:14:36  0  https://www.businessinsider.com/last-us-milita...   \n",
       "\n",
       "    6    7    8    9   ...                                  39  \\\n",
       "0  Yes  Yes  Yes  Yes  ...  4 - Grey area but leaning toward 5   \n",
       "1   No   No        No  ...                    1 - Don’t remove   \n",
       "2   No   No        No  ...                    1 - Don’t remove   \n",
       "\n",
       "                                   40                41      42      43 44 45  \\\n",
       "0                          5 - Remove        5 - Remove  REMOVE  REMOVE         \n",
       "1                          5 - Remove        5 - Remove  REMOVE  REMOVE         \n",
       "2  4 - Grey area but leaning toward 5  1 - Don’t remove    KEEP    KEEP         \n",
       "\n",
       "  46                                                47  \\\n",
       "0                         5 - Comment is unsubstantive   \n",
       "1                   4 - Grey area but leaning toward 5   \n",
       "2     3 - Cannot decide (escalate for policy decision)   \n",
       "\n",
       "                                                 48  \n",
       "0                                        5 - Remove  \n",
       "1                4 - Grey area but leaning toward 5  \n",
       "2  3 - Cannot decide (escalate for policy decision)  \n",
       "\n",
       "[3 rows x 49 columns]"
      ]
     },
     "execution_count": 21,
     "metadata": {},
     "output_type": "execute_result"
    }
   ],
   "source": [
    "worksheet = sh.get_worksheet(0)\n",
    "df = pd.DataFrame(worksheet.get_values()[4: 104])\n",
    "df.head(3)"
   ]
  },
  {
   "cell_type": "code",
   "execution_count": 22,
   "id": "bc6ec992",
   "metadata": {},
   "outputs": [
    {
     "data": {
      "text/html": [
       "<div>\n",
       "<style scoped>\n",
       "    .dataframe tbody tr th:only-of-type {\n",
       "        vertical-align: middle;\n",
       "    }\n",
       "\n",
       "    .dataframe tbody tr th {\n",
       "        vertical-align: top;\n",
       "    }\n",
       "\n",
       "    .dataframe thead th {\n",
       "        text-align: right;\n",
       "    }\n",
       "</style>\n",
       "<table border=\"1\" class=\"dataframe\">\n",
       "  <thead>\n",
       "    <tr style=\"text-align: right;\">\n",
       "      <th></th>\n",
       "      <th>0</th>\n",
       "      <th>1</th>\n",
       "      <th>2</th>\n",
       "      <th>3</th>\n",
       "      <th>4</th>\n",
       "      <th>5</th>\n",
       "      <th>6</th>\n",
       "      <th>7</th>\n",
       "      <th>8</th>\n",
       "      <th>9</th>\n",
       "      <th>...</th>\n",
       "      <th>39</th>\n",
       "      <th>40</th>\n",
       "      <th>41</th>\n",
       "      <th>42</th>\n",
       "      <th>43</th>\n",
       "      <th>44</th>\n",
       "      <th>45</th>\n",
       "      <th>46</th>\n",
       "      <th>47</th>\n",
       "      <th>48</th>\n",
       "    </tr>\n",
       "  </thead>\n",
       "  <tbody>\n",
       "    <tr>\n",
       "      <th>97</th>\n",
       "      <td>4323266321522364955</td>\n",
       "      <td></td>\n",
       "      <td>Finally</td>\n",
       "      <td>2021-08-30 22:36:53</td>\n",
       "      <td>0</td>\n",
       "      <td>https://www.businessinsider.com/last-us-milita...</td>\n",
       "      <td>No</td>\n",
       "      <td></td>\n",
       "      <td>No</td>\n",
       "      <td>No</td>\n",
       "      <td>...</td>\n",
       "      <td>1 - Don’t remove</td>\n",
       "      <td>5 - Remove</td>\n",
       "      <td>5 - Remove</td>\n",
       "      <td>REMOVE</td>\n",
       "      <td>REMOVE</td>\n",
       "      <td></td>\n",
       "      <td></td>\n",
       "      <td></td>\n",
       "      <td></td>\n",
       "      <td></td>\n",
       "    </tr>\n",
       "    <tr>\n",
       "      <th>98</th>\n",
       "      <td>4323270149567162085</td>\n",
       "      <td></td>\n",
       "      <td>Good riddance.</td>\n",
       "      <td>2021-08-30 22:52:06</td>\n",
       "      <td>0</td>\n",
       "      <td>https://www.mirror.co.uk/news/us-news/anti-mas...</td>\n",
       "      <td>Yes</td>\n",
       "      <td></td>\n",
       "      <td>No</td>\n",
       "      <td>No</td>\n",
       "      <td>...</td>\n",
       "      <td>1 - Don’t remove</td>\n",
       "      <td>5 - Remove</td>\n",
       "      <td>5 - Remove</td>\n",
       "      <td>REMOVE</td>\n",
       "      <td>REMOVE</td>\n",
       "      <td></td>\n",
       "      <td></td>\n",
       "      <td></td>\n",
       "      <td></td>\n",
       "      <td></td>\n",
       "    </tr>\n",
       "    <tr>\n",
       "      <th>99</th>\n",
       "      <td>4323271602872522914</td>\n",
       "      <td></td>\n",
       "      <td>Weird science!</td>\n",
       "      <td>2021-08-30 22:57:53</td>\n",
       "      <td>0</td>\n",
       "      <td>https://www.cincinnati.com/story/news/2021/08/...</td>\n",
       "      <td>No</td>\n",
       "      <td></td>\n",
       "      <td>No</td>\n",
       "      <td>No</td>\n",
       "      <td>...</td>\n",
       "      <td>1 - Don’t remove</td>\n",
       "      <td>5 - Remove</td>\n",
       "      <td>5 - Remove</td>\n",
       "      <td>REMOVE</td>\n",
       "      <td>REMOVE</td>\n",
       "      <td></td>\n",
       "      <td></td>\n",
       "      <td></td>\n",
       "      <td></td>\n",
       "      <td></td>\n",
       "    </tr>\n",
       "  </tbody>\n",
       "</table>\n",
       "<p>3 rows × 49 columns</p>\n",
       "</div>"
      ],
      "text/plain": [
       "                     0  1                2                    3  4   \\\n",
       "97  4323266321522364955            Finally   2021-08-30 22:36:53  0   \n",
       "98  4323270149567162085     Good riddance.   2021-08-30 22:52:06  0   \n",
       "99  4323271602872522914      Weird science!  2021-08-30 22:57:53  0   \n",
       "\n",
       "                                                   5    6  7   8   9   ...  \\\n",
       "97  https://www.businessinsider.com/last-us-milita...   No     No  No  ...   \n",
       "98  https://www.mirror.co.uk/news/us-news/anti-mas...  Yes     No  No  ...   \n",
       "99  https://www.cincinnati.com/story/news/2021/08/...   No     No  No  ...   \n",
       "\n",
       "                  39          40          41      42      43 44 45 46 47 48  \n",
       "97  1 - Don’t remove  5 - Remove  5 - Remove  REMOVE  REMOVE                 \n",
       "98  1 - Don’t remove  5 - Remove  5 - Remove  REMOVE  REMOVE                 \n",
       "99  1 - Don’t remove  5 - Remove  5 - Remove  REMOVE  REMOVE                 \n",
       "\n",
       "[3 rows x 49 columns]"
      ]
     },
     "execution_count": 22,
     "metadata": {},
     "output_type": "execute_result"
    }
   ],
   "source": [
    "df.tail(3)"
   ]
  },
  {
   "cell_type": "code",
   "execution_count": 24,
   "id": "5acbba2e",
   "metadata": {},
   "outputs": [
    {
     "data": {
      "text/plain": [
       "True"
      ]
     },
     "execution_count": 24,
     "metadata": {},
     "output_type": "execute_result"
    }
   ],
   "source": [
    "all(df[42]==df[43])"
   ]
  },
  {
   "cell_type": "code",
   "execution_count": 28,
   "id": "88b9e1ac",
   "metadata": {},
   "outputs": [
    {
     "data": {
      "text/plain": [
       "REMOVE    66\n",
       "KEEP      34\n",
       "Name: 42, dtype: int64"
      ]
     },
     "execution_count": 28,
     "metadata": {},
     "output_type": "execute_result"
    }
   ],
   "source": [
    "df[42].value_counts()"
   ]
  },
  {
   "cell_type": "code",
   "execution_count": 25,
   "id": "d8b803a5",
   "metadata": {},
   "outputs": [
    {
     "data": {
      "text/plain": [
       "0                                 Meth’d up MAGA trash \n",
       "1     Lol I just made a comment it was removed for g...\n",
       "2     Apparently you can’t say negative stuff about ...\n",
       "3                          She is meth’d up MAGA trash \n",
       "4                Rest In Peace GQP… it’s over for sure \n",
       "                            ...                        \n",
       "95    Well, to be fair, many of us hate rand almost ...\n",
       "96                                         Maga trash. \n",
       "97                                             Finally \n",
       "98                                      Good riddance. \n",
       "99                                       Weird science!\n",
       "Name: 2, Length: 100, dtype: object"
      ]
     },
     "execution_count": 25,
     "metadata": {},
     "output_type": "execute_result"
    }
   ],
   "source": [
    "df[2]"
   ]
  },
  {
   "cell_type": "code",
   "execution_count": 48,
   "id": "6b6ce5cb",
   "metadata": {},
   "outputs": [
    {
     "data": {
      "text/plain": [
       "(0.46, 0.7727272727272727)"
      ]
     },
     "execution_count": 48,
     "metadata": {},
     "output_type": "execute_result"
    }
   ],
   "source": [
    "model = models[('content', 'binary')]\n",
    "transformer = transformers[('content', 'binary')]\n",
    "\n",
    "test_features = transformer.transform(df[2])\n",
    "test_pred = model.predict(test_features)\n",
    "y_true = (df[42]=='REMOVE').astype(int)\n",
    "\n",
    "accuracy_score(test_pred, y_true), recall_score(test_pred, y_true)"
   ]
  },
  {
   "cell_type": "code",
   "execution_count": 39,
   "id": "74da8d80",
   "metadata": {},
   "outputs": [
    {
     "data": {
      "text/plain": [
       "0                                   4323245421758513930\n",
       "1                                                      \n",
       "2                                 Meth’d up MAGA trash \n",
       "3                                   2021-08-30 21:13:51\n",
       "4                                                     0\n",
       "5     https://www.independent.co.uk/news/world/ameri...\n",
       "6                                                   Yes\n",
       "7                                                   Yes\n",
       "8                                                   Yes\n",
       "9                                                   Yes\n",
       "10                                                  Yes\n",
       "11                                                  Yes\n",
       "12                                                     \n",
       "13                                                     \n",
       "14                                                     \n",
       "15                                                     \n",
       "16                                                     \n",
       "17                                                     \n",
       "18                                                     \n",
       "19                                                   No\n",
       "20                                                   No\n",
       "21                                                   No\n",
       "22                                                   No\n",
       "23                                                   No\n",
       "24                                                   No\n",
       "25    5 - Comment is not relevant for the comment di...\n",
       "26    5 - Comment is not relevant for the comment di...\n",
       "27                   2 - Grey area but leaning toward 1\n",
       "28    5 - Comment is not relevant for the comment di...\n",
       "29                                         1 - Relevant\n",
       "30                                                     \n",
       "31                         5 - Comment is unsubstantive\n",
       "32                                1 - Not unsubstantive\n",
       "33                         5 - Comment is unsubstantive\n",
       "34                         5 - Comment is unsubstantive\n",
       "35                                1 - Not unsubstantive\n",
       "36                         5 - Comment is unsubstantive\n",
       "37                                           5 - Remove\n",
       "38                                           5 - Remove\n",
       "39                   4 - Grey area but leaning toward 5\n",
       "40                                           5 - Remove\n",
       "41                                           5 - Remove\n",
       "42                                               REMOVE\n",
       "43                                               REMOVE\n",
       "44                                                     \n",
       "45                                                     \n",
       "46                                                     \n",
       "47                         5 - Comment is unsubstantive\n",
       "48                                           5 - Remove\n",
       "Name: 0, dtype: object"
      ]
     },
     "execution_count": 39,
     "metadata": {},
     "output_type": "execute_result"
    }
   ],
   "source": [
    "df.iloc[0]"
   ]
  },
  {
   "cell_type": "code",
   "execution_count": 40,
   "id": "7b608364",
   "metadata": {},
   "outputs": [
    {
     "data": {
      "text/plain": [
       "1 - Not unsubstantive                 50\n",
       "5 - Comment is unsubstantive          49\n",
       "2 - Grey area but leaning toward 1     1\n",
       "Name: 36, dtype: int64"
      ]
     },
     "execution_count": 40,
     "metadata": {},
     "output_type": "execute_result"
    }
   ],
   "source": [
    "df[36].value_counts()"
   ]
  },
  {
   "cell_type": "code",
   "execution_count": 49,
   "id": "42d8bbb3",
   "metadata": {},
   "outputs": [
    {
     "data": {
      "text/plain": [
       "(0.55, 0.5909090909090909)"
      ]
     },
     "execution_count": 49,
     "metadata": {},
     "output_type": "execute_result"
    }
   ],
   "source": [
    "def is_positive(val):\n",
    "    if len(val) > 0:\n",
    "        return int(val.startswith('5'))\n",
    "    return 0\n",
    "\n",
    "y_true = df[36].map(is_positive)\n",
    "accuracy_score(test_pred, y_true), recall_score(test_pred, y_true)"
   ]
  },
  {
   "cell_type": "code",
   "execution_count": null,
   "id": "69e83720",
   "metadata": {},
   "outputs": [],
   "source": []
  }
 ],
 "metadata": {
  "kernelspec": {
   "display_name": "Python 3",
   "language": "python",
   "name": "python3"
  },
  "language_info": {
   "codemirror_mode": {
    "name": "ipython",
    "version": 3
   },
   "file_extension": ".py",
   "mimetype": "text/x-python",
   "name": "python",
   "nbconvert_exporter": "python",
   "pygments_lexer": "ipython3",
   "version": "3.8.8"
  }
 },
 "nbformat": 4,
 "nbformat_minor": 5
}
